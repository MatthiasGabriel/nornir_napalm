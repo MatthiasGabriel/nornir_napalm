{
 "cells": [
  {
   "cell_type": "markdown",
   "metadata": {},
   "source": [
    "# task: napalm_traceroute\n",
    "\n",
    "[napalm_traceroute](../api/tasks.rst#nornir_napalm.plugins.tasks.napalm_traceroute) exposes napalm's method `traceroute`.\n",
    "\n",
    "Example:"
   ]
  },
  {
   "cell_type": "code",
   "execution_count": 1,
   "metadata": {
    "pycharm": {
     "name": "#%%\n"
    }
   },
   "outputs": [],
   "source": [
    "from nornir import InitNornir\n",
    "from nornir_napalm.plugins.tasks import napalm_traceroute\n",
    "import json\n",
    "\n",
    "nr = InitNornir(\n",
    "    inventory={\n",
    "        \"plugin\": \"SimpleInventory\",\n",
    "        \"options\": {\n",
    "            \"host_file\": \"inventory/hosts.yaml\",\n",
    "            \"group_file\": \"inventory/groups.yaml\",\n",
    "            \"defaults_file\": \"inventory/defaults.yaml\",\n",
    "        }\n",
    "    },\n",
    "    dry_run=True,\n",
    ")"
   ]
  },
  {
   "cell_type": "code",
   "execution_count": 2,
   "metadata": {
    "pycharm": {
     "name": "#%%\n"
    }
   },
   "outputs": [],
   "source": [
    "result = nr.run(napalm_traceroute, destination='8.8.8.8')"
   ]
  },
  {
   "cell_type": "code",
   "execution_count": 3,
   "metadata": {
    "pycharm": {
     "name": "#%%\n"
    }
   },
   "outputs": [
    {
     "name": "stdout",
     "output_type": "stream",
     "text": [
      "{\n",
      "    \"success\": {\n",
      "        \"1\": {\n",
      "            \"probes\": {\n",
      "                \"1\": {\n",
      "                    \"rtt\": 2,\n",
      "                    \"ip_address\": \"8.8.8.8\",\n",
      "                    \"host_name\": \"8.8.8.8\"\n",
      "                },\n",
      "                \"2\": {\n",
      "                    \"rtt\": 0,\n",
      "                    \"ip_address\": \"\",\n",
      "                    \"host_name\": \"\"\n",
      "                },\n",
      "                \"3\": {\n",
      "                    \"rtt\": 2,\n",
      "                    \"ip_address\": \"8.8.8.8\",\n",
      "                    \"host_name\": \"8.8.8.8\"\n",
      "                }\n",
      "            }\n",
      "        }\n",
      "    }\n",
      "}\n"
     ]
    }
   ],
   "source": [
    "print(json.dumps(result[\"rtr00\"][0].result, indent=4))\n"
   ]
  },
  {
   "cell_type": "code",
   "execution_count": null,
   "metadata": {},
   "outputs": [],
   "source": []
  }
 ],
 "metadata": {
  "kernelspec": {
   "display_name": "Python 3",
   "language": "python",
   "name": "python3"
  },
  "language_info": {
   "codemirror_mode": {
    "name": "ipython",
    "version": 3
   },
   "file_extension": ".py",
   "mimetype": "text/x-python",
   "name": "python",
   "nbconvert_exporter": "python",
   "pygments_lexer": "ipython3",
   "version": "3.8.5"
  }
 },
 "nbformat": 4,
 "nbformat_minor": 1
}
